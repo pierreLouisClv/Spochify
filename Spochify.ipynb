{
 "cells": [
  {
   "cell_type": "markdown",
   "id": "641761bc",
   "metadata": {},
   "source": [
    "# Projet Spochify "
   ]
  },
  {
   "cell_type": "code",
   "execution_count": null,
   "id": "871f454e",
   "metadata": {
    "vscode": {
     "languageId": "plaintext"
    }
   },
   "outputs": [],
   "source": [
    "dataset_path = \"C:\\Users\\USER\\Documents\\M2-IKSEM\\ML\\Project\\DataSets\\Spochify\\tracks.csv\"\n",
    "\n",
    "import pandas as pd\n",
    "data = pd.read_csv(\"C:\\\\Users\\\\USER\\\\Documents\\\\M2-IKSEM\\\\ML\\\\Datasets\\cheese.csv\", \n",
    "                  sep=';',\n",
    "                  header=0)"
   ]
  }
 ],
 "metadata": {
  "language_info": {
   "name": "python"
  }
 },
 "nbformat": 4,
 "nbformat_minor": 5
}
